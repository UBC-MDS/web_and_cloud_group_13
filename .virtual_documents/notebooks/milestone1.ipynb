import re
import os
import glob
import zipfile
import requests
from urllib.request import urlretrieve
import json
import pandas as pd
import numpy as np


article_id = 14096681  # this is the unique identifier of the article on figshare
url = f"https://api.figshare.com/v2/articles/{article_id}"
headers = {"Content-Type": "application/json"}
output_directory = "figshare/"


response = requests.request("GET", url, headers=headers)
data = json.loads(response.text)
files = data["files"]
files


files_to_dl = ["data.zip"]  
for file in files:
    if file["name"] in files_to_dl:
        os.makedirs(output_directory, exist_ok=True)
        urlretrieve(file["download_url"], output_directory + file["name"])


with zipfile.ZipFile(os.path.join(output_directory, "data.zip"), 'r') as f:
    f.extractall(output_directory)


os.remove("figshare/observed_daily_rainfall_SYD.csv")


get_ipython().run_cell_magic("time", "", """
use_cols = ["time", "lat_min", "lat_max", "lon_min", "lon_max", "rain (mm/day)"]
files = glob.glob('figshare/*.csv')

df = pd.concat((pd.read_csv(file, index_col=0, usecols=use_cols)
                .assign(model=re.findall(r"/([^_]*)", file)[0])
                for file in files))

df.to_csv("figshare/combined_data.csv")""")


df = pd.read_csv("figshare/combined_data.csv", parse_dates=True, index_col='time')


df.shape


df.dtypes


get_ipython().run_cell_magic("time", "", """df.describe() # baseline""")


print(f"Memory usage with float64: {df[['lat_min','lat_max','lon_min', 'lon_max', 'rain (mm/day)']].memory_usage().sum() / 1e6:.2f} MB")
print(f"Memory usage with float32: {df[['lat_min','lat_max','lon_min', 'lon_max', 'rain (mm/day)']].astype('float32', errors='ignore').memory_usage().sum() / 1e6:.2f} MB")


# converting dtype
colum_dtypes = {'lat_min': np.float32, 
                'lat_max': np.float32, 
                'lon_min': np.float32, 
                'lon_max': np.float32, 
                'rain (mm/day)': np.float32}

df_new = pd.read_csv("figshare/combined_data.csv", 
                     parse_dates=True, index_col='time', dtype=colum_dtypes)

df_new.head()


# Check the columns' data type after converting

df_new.dtypes


get_ipython().run_cell_magic("time", "", """df_new.describe() # time comparison""")


df_subset = pd.read_csv("figshare/combined_data.csv",
                        parse_dates=True, index_col='time', 
                        usecols=['time', 'rain (mm/day)'])

df_subset.head()


get_ipython().run_cell_magic("time", "", """df_subset.describe() # running same EDA step on the subset data""")



