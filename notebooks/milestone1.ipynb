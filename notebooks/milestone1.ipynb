{
 "cells": [
  {
   "cell_type": "markdown",
   "id": "bb3d5721-22a2-4c88-8657-79a4273f3abf",
   "metadata": {},
   "source": [
    "# Milestone 1 Worksheet"
   ]
  },
  {
   "cell_type": "code",
   "execution_count": 1,
   "id": "00492056-8add-4b8c-a864-861d229402ca",
   "metadata": {},
   "outputs": [],
   "source": [
    "import re\n",
    "import os\n",
    "import glob\n",
    "import zipfile\n",
    "import requests\n",
    "from urllib.request import urlretrieve\n",
    "import json\n",
    "import pandas as pd"
   ]
  },
  {
   "cell_type": "markdown",
   "id": "a35a650c-0f17-4992-8a60-b51e7a23b779",
   "metadata": {},
   "source": [
    "## Downloading the data"
   ]
  },
  {
   "cell_type": "code",
   "execution_count": 2,
   "id": "2e64035f-f4b1-448c-b076-b659bfea9772",
   "metadata": {},
   "outputs": [],
   "source": [
    "article_id = 14096681  # this is the unique identifier of the article on figshare\n",
    "url = f\"https://api.figshare.com/v2/articles/{article_id}\"\n",
    "headers = {\"Content-Type\": \"application/json\"}\n",
    "output_directory = \"figshare/\""
   ]
  },
  {
   "cell_type": "code",
   "execution_count": 3,
   "id": "33e03e25-2550-454e-926c-539a5da5989d",
   "metadata": {},
   "outputs": [
    {
     "data": {
      "text/plain": [
       "[{'id': 26579150,\n",
       "  'name': 'daily_rainfall_2014.png',\n",
       "  'size': 58863,\n",
       "  'is_link_only': False,\n",
       "  'download_url': 'https://ndownloader.figshare.com/files/26579150',\n",
       "  'supplied_md5': 'fd32a2ffde300a31f8d63b1825d47e5e',\n",
       "  'computed_md5': 'fd32a2ffde300a31f8d63b1825d47e5e'},\n",
       " {'id': 26579171,\n",
       "  'name': 'environment.yml',\n",
       "  'size': 192,\n",
       "  'is_link_only': False,\n",
       "  'download_url': 'https://ndownloader.figshare.com/files/26579171',\n",
       "  'supplied_md5': '060b2020017eed93a1ee7dd8c65b2f34',\n",
       "  'computed_md5': '060b2020017eed93a1ee7dd8c65b2f34'},\n",
       " {'id': 26586554,\n",
       "  'name': 'README.md',\n",
       "  'size': 5422,\n",
       "  'is_link_only': False,\n",
       "  'download_url': 'https://ndownloader.figshare.com/files/26586554',\n",
       "  'supplied_md5': '61858c6cc0e6a6d6663a7e4c75bbd88c',\n",
       "  'computed_md5': '61858c6cc0e6a6d6663a7e4c75bbd88c'},\n",
       " {'id': 26766812,\n",
       "  'name': 'data.zip',\n",
       "  'size': 814041183,\n",
       "  'is_link_only': False,\n",
       "  'download_url': 'https://ndownloader.figshare.com/files/26766812',\n",
       "  'supplied_md5': 'b517383f76e77bd03755a63a8ff83ee9',\n",
       "  'computed_md5': 'b517383f76e77bd03755a63a8ff83ee9'},\n",
       " {'id': 26766815,\n",
       "  'name': 'get_data.py',\n",
       "  'size': 4113,\n",
       "  'is_link_only': False,\n",
       "  'download_url': 'https://ndownloader.figshare.com/files/26766815',\n",
       "  'supplied_md5': '7829028495fd9dec9680ea013474afa6',\n",
       "  'computed_md5': '7829028495fd9dec9680ea013474afa6'}]"
      ]
     },
     "execution_count": 3,
     "metadata": {},
     "output_type": "execute_result"
    }
   ],
   "source": [
    "response = requests.request(\"GET\", url, headers=headers)\n",
    "data = json.loads(response.text)\n",
    "files = data[\"files\"]\n",
    "files"
   ]
  },
  {
   "cell_type": "code",
   "execution_count": 4,
   "id": "40413083-f09a-4145-8076-f35440b2ee76",
   "metadata": {},
   "outputs": [],
   "source": [
    "files_to_dl = [\"data.zip\"]  \n",
    "for file in files:\n",
    "    if file[\"name\"] in files_to_dl:\n",
    "        os.makedirs(output_directory, exist_ok=True)\n",
    "        urlretrieve(file[\"download_url\"], output_directory + file[\"name\"])"
   ]
  },
  {
   "cell_type": "code",
   "execution_count": 5,
   "id": "9df51e12-32f2-4a90-b705-d3b7bacde747",
   "metadata": {},
   "outputs": [],
   "source": [
    "with zipfile.ZipFile(os.path.join(output_directory, \"data.zip\"), 'r') as f:\n",
    "    f.extractall(output_directory)"
   ]
  },
  {
   "cell_type": "code",
   "execution_count": 6,
   "id": "0aa2a9f0-135b-41d7-8639-cca12d589021",
   "metadata": {},
   "outputs": [],
   "source": [
    "os.remove(\"figshare/observed_daily_rainfall_SYD.csv\")"
   ]
  },
  {
   "cell_type": "code",
   "execution_count": 7,
   "id": "fad58884-62ba-4ed0-8a9e-6e1e08219b31",
   "metadata": {},
   "outputs": [
    {
     "name": "stdout",
     "output_type": "stream",
     "text": [
      "CPU times: user 5min 48s, sys: 9.82 s, total: 5min 57s\n",
      "Wall time: 6min 2s\n"
     ]
    }
   ],
   "source": [
    "%%time\n",
    "\n",
    "use_cols = [\"time\", \"lat_min\", \"lat_max\", \"lon_min\", \"lon_max\", \"rain (mm/day)\"]\n",
    "files = glob.glob('figshare/*.csv')\n",
    "\n",
    "df = pd.concat((pd.read_csv(file, index_col=0, usecols=use_cols)\n",
    "                .assign(model=re.findall(r\"/([^_]*)\", file)[0])\n",
    "                for file in files))\n",
    "\n",
    "df.to_csv(\"figshare/combined_data.csv\")"
   ]
  },
  {
   "cell_type": "markdown",
   "id": "45f3585f-5277-48e9-af01-9d9423cfdf43",
   "metadata": {},
   "source": [
    "\n",
    "| Team Member  |Operating System|RAM|Processor|Is SSD| Time Taken|\n",
    "| -------------| -------------- | - | --- ----| -----| --------- |\n",
    "| Junrong Zhu  |macOS Monterey  |8GB|   CPU - Apple M1 chip 8-core   |  Yes | Total time 5min 57s|\n",
    "| Amelia Tang  |macOS Monterey  |8GB|   CPU - 2.2 GHz Dual-Core Intel Core i7   |  Yes | Total time 10min 1s|\n",
    "| Chaoran Wang | macOS Big Sur   | 16  | Intel Core i7-7700k | Yes | Total time 5min 39s |"
   ]
  },
  {
   "cell_type": "markdown",
   "id": "6015f0c2-e791-4240-9168-1e6810973ecc",
   "metadata": {},
   "source": [
    "## EDA"
   ]
  },
  {
   "cell_type": "markdown",
   "id": "f2aaaade-9b7f-492b-8bc9-1478f88b8f25",
   "metadata": {},
   "source": [
    "In order to understand our data better, we performed following exploratory data analysis steps:\n",
    "\n",
    "- observing and changing the `dtype` of the data\n",
    "- loading in chunks\n",
    "- loading the columns of interest\n",
    "\n",
    "We are going to present the EDA in `Python` and `R` respectively."
   ]
  },
  {
   "cell_type": "markdown",
   "id": "55363a86-d297-4431-b80f-ea13957dd0a7",
   "metadata": {},
   "source": [
    "### Python Section"
   ]
  },
  {
   "cell_type": "code",
   "execution_count": 8,
   "id": "fc88ec5e-07e1-4859-be9e-4747d9fcb551",
   "metadata": {},
   "outputs": [],
   "source": [
    "df = pd.read_csv(\"figshare/combined_data.csv\")"
   ]
  },
  {
   "cell_type": "markdown",
   "id": "16478e5b-51ea-4d8f-a865-e95a1b5c222c",
   "metadata": {},
   "source": [
    "Reading in the data takes quite some time, let's see how large is the data by checking on its shape."
   ]
  },
  {
   "cell_type": "code",
   "execution_count": 9,
   "id": "416db3a2-1b21-4605-99d6-e2e75208d4a3",
   "metadata": {},
   "outputs": [
    {
     "data": {
      "text/plain": [
       "(62467843, 7)"
      ]
     },
     "execution_count": 9,
     "metadata": {},
     "output_type": "execute_result"
    }
   ],
   "source": [
    "df.shape"
   ]
  },
  {
   "cell_type": "code",
   "execution_count": 10,
   "id": "0341a7ff-f1e6-40fa-a257-8835a179c7d1",
   "metadata": {},
   "outputs": [
    {
     "data": {
      "text/plain": [
       "time              object\n",
       "lat_min          float64\n",
       "lat_max          float64\n",
       "lon_min          float64\n",
       "lon_max          float64\n",
       "rain (mm/day)    float64\n",
       "model             object\n",
       "dtype: object"
      ]
     },
     "execution_count": 10,
     "metadata": {},
     "output_type": "execute_result"
    }
   ],
   "source": [
    "df.dtypes"
   ]
  },
  {
   "cell_type": "markdown",
   "id": "2d067570-91fd-4214-a87d-12770adf8489",
   "metadata": {},
   "source": [
    "As we see from the output, `time` has data type as *object*, however, it would be better for us to change the data type to `datetime64[ns]` in case we want to apply extensive functions on the time series values."
   ]
  },
  {
   "cell_type": "code",
   "execution_count": 11,
   "id": "58214c4e-723c-4779-88e4-7d70075d1a98",
   "metadata": {},
   "outputs": [],
   "source": [
    "df['time'] = pd.to_datetime(df['time'])"
   ]
  },
  {
   "cell_type": "code",
   "execution_count": 14,
   "id": "b075d788-5a6f-4e28-a0e3-f82778df7252",
   "metadata": {},
   "outputs": [
    {
     "data": {
      "text/plain": [
       "time             datetime64[ns]\n",
       "lat_min                 float64\n",
       "lat_max                 float64\n",
       "lon_min                 float64\n",
       "lon_max                 float64\n",
       "rain (mm/day)           float64\n",
       "model                    object\n",
       "dtype: object"
      ]
     },
     "execution_count": 14,
     "metadata": {},
     "output_type": "execute_result"
    }
   ],
   "source": [
    "# check on the dtype after converting\n",
    "\n",
    "df.dtypes"
   ]
  },
  {
   "cell_type": "markdown",
   "id": "e5c94eef-07e0-4c17-a907-8b4833c1133d",
   "metadata": {},
   "source": [
    "`time` is now shown as *datetie64[ns]* instead of *object*."
   ]
  },
  {
   "cell_type": "markdown",
   "id": "fc5cad11-35d9-4a19-9158-8a748c7fcea3",
   "metadata": {},
   "source": [
    "### R Section"
   ]
  },
  {
   "cell_type": "markdown",
   "id": "9be9d835-3385-4205-9a98-1182caefb7a9",
   "metadata": {},
   "source": [
    "... Reasoning of the approach ..."
   ]
  },
  {
   "cell_type": "markdown",
   "id": "af844424-c40c-4de4-8be9-7b68b6159d3c",
   "metadata": {},
   "source": [
    "## Challenges\n",
    "\n",
    "1. One of the challenges we had with Q5 was the long running time. For example, we wanted to have a general overview on the dataframe by using '.info()' like what we did in other courses, however, it took a long time to output the dtype for each variable as well as other information which we were not particularly interested in. As an alternative approach, we used `.dtypes` to get the data type of columns and it returned the results immediately.\n",
    "\n",
    "2. "
   ]
  },
  {
   "cell_type": "code",
   "execution_count": null,
   "id": "251e54dc-59ee-467c-862d-9c39696f5d8d",
   "metadata": {},
   "outputs": [],
   "source": []
  }
 ],
 "metadata": {
  "kernelspec": {
   "display_name": "Python [conda env:525_2022]",
   "language": "python",
   "name": "conda-env-525_2022-py"
  },
  "language_info": {
   "codemirror_mode": {
    "name": "ipython",
    "version": 3
   },
   "file_extension": ".py",
   "mimetype": "text/x-python",
   "name": "python",
   "nbconvert_exporter": "python",
   "pygments_lexer": "ipython3",
   "version": "3.8.6"
  }
 },
 "nbformat": 4,
 "nbformat_minor": 5
}
