{
 "cells": [
  {
   "cell_type": "markdown",
   "id": "bb3d5721-22a2-4c88-8657-79a4273f3abf",
   "metadata": {},
   "source": [
    "# DSCI 525 Web and Cloud Computing \n",
    "## Milestone 1 Tackling big data on your laptop \n",
    "Authors: Amelia Tang, Chaoran Wang, Junrong Zhu (Group 13) "
   ]
  },
  {
   "cell_type": "markdown",
   "id": "49f7efe1-9b9a-4466-81cf-270dae531a29",
   "metadata": {},
   "source": [
    "### Import Dependencies"
   ]
  },
  {
   "cell_type": "code",
   "execution_count": 2,
   "id": "00492056-8add-4b8c-a864-861d229402ca",
   "metadata": {},
   "outputs": [],
   "source": [
    "import re\n",
    "import os\n",
    "import glob\n",
    "import zipfile\n",
    "import requests\n",
    "from urllib.request import urlretrieve\n",
    "import json\n",
    "import pandas as pd\n",
    "import numpy as np"
   ]
  },
  {
   "cell_type": "markdown",
   "id": "a35a650c-0f17-4992-8a60-b51e7a23b779",
   "metadata": {},
   "source": [
    "### Downloading the data\n",
    "1. Download the data from figshare to local computers using the figshare API and requests library.\n",
    "2. Extract the zip file"
   ]
  },
  {
   "cell_type": "code",
   "execution_count": 2,
   "id": "2e64035f-f4b1-448c-b076-b659bfea9772",
   "metadata": {},
   "outputs": [],
   "source": [
    "article_id = 14096681  # this is the unique identifier of the article on figshare\n",
    "url = f\"https://api.figshare.com/v2/articles/{article_id}\"\n",
    "headers = {\"Content-Type\": \"application/json\"}\n",
    "output_directory = \"figshare/\""
   ]
  },
  {
   "cell_type": "code",
   "execution_count": 3,
   "id": "33e03e25-2550-454e-926c-539a5da5989d",
   "metadata": {},
   "outputs": [
    {
     "data": {
      "text/plain": [
       "[{'id': 26579150,\n",
       "  'name': 'daily_rainfall_2014.png',\n",
       "  'size': 58863,\n",
       "  'is_link_only': False,\n",
       "  'download_url': 'https://ndownloader.figshare.com/files/26579150',\n",
       "  'supplied_md5': 'fd32a2ffde300a31f8d63b1825d47e5e',\n",
       "  'computed_md5': 'fd32a2ffde300a31f8d63b1825d47e5e'},\n",
       " {'id': 26579171,\n",
       "  'name': 'environment.yml',\n",
       "  'size': 192,\n",
       "  'is_link_only': False,\n",
       "  'download_url': 'https://ndownloader.figshare.com/files/26579171',\n",
       "  'supplied_md5': '060b2020017eed93a1ee7dd8c65b2f34',\n",
       "  'computed_md5': '060b2020017eed93a1ee7dd8c65b2f34'},\n",
       " {'id': 26586554,\n",
       "  'name': 'README.md',\n",
       "  'size': 5422,\n",
       "  'is_link_only': False,\n",
       "  'download_url': 'https://ndownloader.figshare.com/files/26586554',\n",
       "  'supplied_md5': '61858c6cc0e6a6d6663a7e4c75bbd88c',\n",
       "  'computed_md5': '61858c6cc0e6a6d6663a7e4c75bbd88c'},\n",
       " {'id': 26766812,\n",
       "  'name': 'data.zip',\n",
       "  'size': 814041183,\n",
       "  'is_link_only': False,\n",
       "  'download_url': 'https://ndownloader.figshare.com/files/26766812',\n",
       "  'supplied_md5': 'b517383f76e77bd03755a63a8ff83ee9',\n",
       "  'computed_md5': 'b517383f76e77bd03755a63a8ff83ee9'},\n",
       " {'id': 26766815,\n",
       "  'name': 'get_data.py',\n",
       "  'size': 4113,\n",
       "  'is_link_only': False,\n",
       "  'download_url': 'https://ndownloader.figshare.com/files/26766815',\n",
       "  'supplied_md5': '7829028495fd9dec9680ea013474afa6',\n",
       "  'computed_md5': '7829028495fd9dec9680ea013474afa6'}]"
      ]
     },
     "execution_count": 3,
     "metadata": {},
     "output_type": "execute_result"
    }
   ],
   "source": [
    "response = requests.request(\"GET\", url, headers=headers)\n",
    "data = json.loads(response.text)\n",
    "files = data[\"files\"]\n",
    "files"
   ]
  },
  {
   "cell_type": "code",
   "execution_count": 4,
   "id": "40413083-f09a-4145-8076-f35440b2ee76",
   "metadata": {},
   "outputs": [],
   "source": [
    "files_to_dl = [\"data.zip\"]  \n",
    "for file in files:\n",
    "    if file[\"name\"] in files_to_dl:\n",
    "        os.makedirs(output_directory, exist_ok=True)\n",
    "        urlretrieve(file[\"download_url\"], output_directory + file[\"name\"])"
   ]
  },
  {
   "cell_type": "code",
   "execution_count": 5,
   "id": "9df51e12-32f2-4a90-b705-d3b7bacde747",
   "metadata": {},
   "outputs": [],
   "source": [
    "with zipfile.ZipFile(os.path.join(output_directory, \"data.zip\"), 'r') as f:\n",
    "    f.extractall(output_directory)"
   ]
  },
  {
   "cell_type": "code",
   "execution_count": 6,
   "id": "0aa2a9f0-135b-41d7-8639-cca12d589021",
   "metadata": {},
   "outputs": [],
   "source": [
    "os.remove(\"figshare/observed_daily_rainfall_SYD.csv\")"
   ]
  },
  {
   "cell_type": "markdown",
   "id": "63455767-81b2-40e6-9eab-2783c3291f84",
   "metadata": {
    "tags": []
   },
   "source": [
    "### Combining data CSVs\n",
    "1. Combine data CSVs into a single CSV using pandas.\n",
    "2. When combining the CSV files, add an extra column called \"model\" that identifies the model. \n",
    "3. Compare run times on different machines within our team. "
   ]
  },
  {
   "cell_type": "code",
   "execution_count": 7,
   "id": "fad58884-62ba-4ed0-8a9e-6e1e08219b31",
   "metadata": {},
   "outputs": [
    {
     "name": "stdout",
     "output_type": "stream",
     "text": [
      "CPU times: user 5min 15s, sys: 11.7 s, total: 5min 27s\n",
      "Wall time: 5min 33s\n"
     ]
    }
   ],
   "source": [
    "%%time\n",
    "\n",
    "use_cols = [\"time\", \"lat_min\", \"lat_max\", \"lon_min\", \"lon_max\", \"rain (mm/day)\"]\n",
    "files = glob.glob('figshare/*.csv')\n",
    "\n",
    "df = pd.concat((pd.read_csv(file, index_col=0, usecols=use_cols)\n",
    "                .assign(model=re.findall(r\"/([^_]*)\", file)[0])\n",
    "                for file in files))\n",
    "\n",
    "df.to_csv(\"figshare/combined_data.csv\")"
   ]
  },
  {
   "cell_type": "markdown",
   "id": "8074490c-7ba6-416b-9c9c-624e93c23131",
   "metadata": {},
   "source": [
    "#### Time Comparison Table for Combining CSVs"
   ]
  },
  {
   "cell_type": "markdown",
   "id": "45f3585f-5277-48e9-af01-9d9423cfdf43",
   "metadata": {},
   "source": [
    "\n",
    "| Team Member  |Operating System|RAM|Processor|Is SSD| Time Taken|\n",
    "| -------------| -------------- | - | --- ----| -----| --------- |\n",
    "| Junrong Zhu  |macOS Monterey  |8GB|   CPU - Apple M1 chip 8-core   |  Yes | Total time 5min 57s|\n",
    "| Amelia Tang  |macOS Monterey  |8GB|   CPU - 2.2 GHz Dual-Core Intel Core i7   |  Yes | Total time 10min 1s|\n",
    "| Chaoran Wang | macOS Big Sur   | 16GB  | CPU - 4.2 Ghz Quad-Core Intel Core i7 | Yes | Total time 5min 27s |"
   ]
  },
  {
   "cell_type": "markdown",
   "id": "263afa07-2ca8-4e7b-967e-1336401350a4",
   "metadata": {},
   "source": [
    "***Our Observations***\n",
    "We observed that computers whose CPU had more cores tended to combine the files faster. Besides, the more RAM a computer had, the less time it took to process the files. Given that our operating systems were all MacOS and we all had SSD, we did not observe how different operating systems and whether have SSD affected the speed. However, based on our research, different operating systems do impact the speed so do the specifications of SSDs.  \n",
    "\n",
    "Sources: https://dash.harvard.edu/bitstream/handle/1/24829608/tr-09-95.pdf\n",
    "<br>https://ssdsphere.com/how-does-ssd-speed-up-a-system/"
   ]
  },
  {
   "cell_type": "markdown",
   "id": "f2aaaade-9b7f-492b-8bc9-1478f88b8f25",
   "metadata": {},
   "source": [
    "#### In order to understand our data better, we performed following exploratory data analysis steps:\n",
    "\n",
    "**Python:**\n",
    "- observing and changing the `dtype` of the data\n",
    "- loading the columns of interest\n",
    "\n",
    "**R:**\n",
    "- obtaining summary statistic of columns\n",
    "- constructing plot of parameters of interests"
   ]
  },
  {
   "cell_type": "markdown",
   "id": "79a09355-90c1-460b-b300-d65b4aef763d",
   "metadata": {},
   "source": [
    "## Load CSV to memory and perform a simple EDA in Python"
   ]
  },
  {
   "cell_type": "code",
   "execution_count": 3,
   "id": "fc88ec5e-07e1-4859-be9e-4747d9fcb551",
   "metadata": {},
   "outputs": [],
   "source": [
    "df = pd.read_csv(\"figshare/combined_data.csv\", parse_dates=True, index_col='time')"
   ]
  },
  {
   "cell_type": "markdown",
   "id": "55363a86-d297-4431-b80f-ea13957dd0a7",
   "metadata": {
    "tags": []
   },
   "source": [
    "#### Changing `dtype` of the data\n",
    "\n",
    "We firstly observed the `dtype` for each column. "
   ]
  },
  {
   "cell_type": "code",
   "execution_count": 6,
   "id": "0341a7ff-f1e6-40fa-a257-8835a179c7d1",
   "metadata": {},
   "outputs": [
    {
     "data": {
      "text/plain": [
       "lat_min          float64\n",
       "lat_max          float64\n",
       "lon_min          float64\n",
       "lon_max          float64\n",
       "rain (mm/day)    float64\n",
       "model             object\n",
       "dtype: object"
      ]
     },
     "execution_count": 6,
     "metadata": {},
     "output_type": "execute_result"
    }
   ],
   "source": [
    "df.dtypes"
   ]
  },
  {
   "cell_type": "markdown",
   "id": "16478e5b-51ea-4d8f-a865-e95a1b5c222c",
   "metadata": {},
   "source": [
    "Then, we used `.describe()` to do a simple EDA on the combined dataset with default data types for all the columns and we loaded all the original columns. We timed the process to establish the baseline for comparisons. "
   ]
  },
  {
   "cell_type": "code",
   "execution_count": 7,
   "id": "16a3c2c6-7f2e-4f30-830f-b887d42a0258",
   "metadata": {},
   "outputs": [
    {
     "name": "stdout",
     "output_type": "stream",
     "text": [
      "CPU times: user 6.88 s, sys: 6.38 s, total: 13.3 s\n",
      "Wall time: 15.5 s\n"
     ]
    },
    {
     "data": {
      "text/html": [
       "<div>\n",
       "<style scoped>\n",
       "    .dataframe tbody tr th:only-of-type {\n",
       "        vertical-align: middle;\n",
       "    }\n",
       "\n",
       "    .dataframe tbody tr th {\n",
       "        vertical-align: top;\n",
       "    }\n",
       "\n",
       "    .dataframe thead th {\n",
       "        text-align: right;\n",
       "    }\n",
       "</style>\n",
       "<table border=\"1\" class=\"dataframe\">\n",
       "  <thead>\n",
       "    <tr style=\"text-align: right;\">\n",
       "      <th></th>\n",
       "      <th>lat_min</th>\n",
       "      <th>lat_max</th>\n",
       "      <th>lon_min</th>\n",
       "      <th>lon_max</th>\n",
       "      <th>rain (mm/day)</th>\n",
       "    </tr>\n",
       "  </thead>\n",
       "  <tbody>\n",
       "    <tr>\n",
       "      <th>count</th>\n",
       "      <td>5.924854e+07</td>\n",
       "      <td>6.246784e+07</td>\n",
       "      <td>5.924854e+07</td>\n",
       "      <td>6.246784e+07</td>\n",
       "      <td>5.924854e+07</td>\n",
       "    </tr>\n",
       "    <tr>\n",
       "      <th>mean</th>\n",
       "      <td>-3.310482e+01</td>\n",
       "      <td>-3.197757e+01</td>\n",
       "      <td>1.469059e+02</td>\n",
       "      <td>1.482150e+02</td>\n",
       "      <td>1.901170e+00</td>\n",
       "    </tr>\n",
       "    <tr>\n",
       "      <th>std</th>\n",
       "      <td>1.963549e+00</td>\n",
       "      <td>1.992067e+00</td>\n",
       "      <td>3.793784e+00</td>\n",
       "      <td>3.809994e+00</td>\n",
       "      <td>5.585735e+00</td>\n",
       "    </tr>\n",
       "    <tr>\n",
       "      <th>min</th>\n",
       "      <td>-3.646739e+01</td>\n",
       "      <td>-3.600000e+01</td>\n",
       "      <td>1.406250e+02</td>\n",
       "      <td>1.412500e+02</td>\n",
       "      <td>-3.807373e-12</td>\n",
       "    </tr>\n",
       "    <tr>\n",
       "      <th>25%</th>\n",
       "      <td>-3.486911e+01</td>\n",
       "      <td>-3.366221e+01</td>\n",
       "      <td>1.434375e+02</td>\n",
       "      <td>1.450000e+02</td>\n",
       "      <td>3.838413e-06</td>\n",
       "    </tr>\n",
       "    <tr>\n",
       "      <th>50%</th>\n",
       "      <td>-3.300000e+01</td>\n",
       "      <td>-3.204188e+01</td>\n",
       "      <td>1.468750e+02</td>\n",
       "      <td>1.481250e+02</td>\n",
       "      <td>6.154947e-02</td>\n",
       "    </tr>\n",
       "    <tr>\n",
       "      <th>75%</th>\n",
       "      <td>-3.140170e+01</td>\n",
       "      <td>-3.015707e+01</td>\n",
       "      <td>1.501875e+02</td>\n",
       "      <td>1.513125e+02</td>\n",
       "      <td>1.020918e+00</td>\n",
       "    </tr>\n",
       "    <tr>\n",
       "      <th>max</th>\n",
       "      <td>-2.990000e+01</td>\n",
       "      <td>-2.790606e+01</td>\n",
       "      <td>1.537500e+02</td>\n",
       "      <td>1.556250e+02</td>\n",
       "      <td>4.329395e+02</td>\n",
       "    </tr>\n",
       "  </tbody>\n",
       "</table>\n",
       "</div>"
      ],
      "text/plain": [
       "            lat_min       lat_max       lon_min       lon_max  rain (mm/day)\n",
       "count  5.924854e+07  6.246784e+07  5.924854e+07  6.246784e+07   5.924854e+07\n",
       "mean  -3.310482e+01 -3.197757e+01  1.469059e+02  1.482150e+02   1.901170e+00\n",
       "std    1.963549e+00  1.992067e+00  3.793784e+00  3.809994e+00   5.585735e+00\n",
       "min   -3.646739e+01 -3.600000e+01  1.406250e+02  1.412500e+02  -3.807373e-12\n",
       "25%   -3.486911e+01 -3.366221e+01  1.434375e+02  1.450000e+02   3.838413e-06\n",
       "50%   -3.300000e+01 -3.204188e+01  1.468750e+02  1.481250e+02   6.154947e-02\n",
       "75%   -3.140170e+01 -3.015707e+01  1.501875e+02  1.513125e+02   1.020918e+00\n",
       "max   -2.990000e+01 -2.790606e+01  1.537500e+02  1.556250e+02   4.329395e+02"
      ]
     },
     "execution_count": 7,
     "metadata": {},
     "output_type": "execute_result"
    }
   ],
   "source": [
    "%%time\n",
    "df.describe() # baseline"
   ]
  },
  {
   "cell_type": "markdown",
   "id": "c9dd3e7e-84a9-4894-8fda-259b5b3ba0c8",
   "metadata": {},
   "source": [
    "We further explored the memory consumption with different `dtype` for the numeric columns below, and we assumed that less memory usage would be likely to lead to less running time."
   ]
  },
  {
   "cell_type": "code",
   "execution_count": 8,
   "id": "6e2643e7-16be-41d2-9fce-59741937adfa",
   "metadata": {},
   "outputs": [
    {
     "name": "stdout",
     "output_type": "stream",
     "text": [
      "Memory usage with float64: 2998.46 MB\n",
      "Memory usage with float32: 1749.10 MB\n"
     ]
    }
   ],
   "source": [
    "print(f\"Memory usage with float64: {df[['lat_min','lat_max','lon_min', 'lon_max', 'rain (mm/day)']].memory_usage().sum() / 1e6:.2f} MB\")\n",
    "print(f\"Memory usage with float32: {df[['lat_min','lat_max','lon_min', 'lon_max', 'rain (mm/day)']].astype('float32', errors='ignore').memory_usage().sum() / 1e6:.2f} MB\")"
   ]
  },
  {
   "cell_type": "markdown",
   "id": "daca7e99-4f02-4860-ae9f-7abea3bcf5e7",
   "metadata": {},
   "source": [
    "We observed that using data type `float32` instead of `float64` would save about half of the memory, so we changed 5 numeric columns from `float64` to `float32` in the code cell below."
   ]
  },
  {
   "cell_type": "code",
   "execution_count": 4,
   "id": "79d78be6-0b9b-4a73-9d21-ea764b5a40ef",
   "metadata": {},
   "outputs": [],
   "source": [
    "# converting dtype\n",
    "colum_dtypes = {'lat_min': np.float32, \n",
    "                'lat_max': np.float32, \n",
    "                'lon_min': np.float32, \n",
    "                'lon_max': np.float32, \n",
    "                'rain (mm/day)': np.float32}"
   ]
  },
  {
   "cell_type": "code",
   "execution_count": 5,
   "id": "2ad8d204-7fae-4417-9c96-f8a866060d3f",
   "metadata": {},
   "outputs": [],
   "source": [
    "df_new = pd.read_csv(\"figshare/combined_data.csv\", \n",
    "                     parse_dates=True, index_col='time', dtype=colum_dtypes)"
   ]
  },
  {
   "cell_type": "code",
   "execution_count": 6,
   "id": "840f8279-2ded-4a4f-9c37-c6aac7ca37ed",
   "metadata": {},
   "outputs": [
    {
     "data": {
      "text/plain": [
       "lat_min          float32\n",
       "lat_max          float32\n",
       "lon_min          float32\n",
       "lon_max          float32\n",
       "rain (mm/day)    float32\n",
       "model             object\n",
       "dtype: object"
      ]
     },
     "execution_count": 6,
     "metadata": {},
     "output_type": "execute_result"
    }
   ],
   "source": [
    "# Check the columns' data type after converting\n",
    "df_new.dtypes"
   ]
  },
  {
   "cell_type": "code",
   "execution_count": 7,
   "id": "58214c4e-723c-4779-88e4-7d70075d1a98",
   "metadata": {},
   "outputs": [
    {
     "name": "stdout",
     "output_type": "stream",
     "text": [
      "CPU times: user 5.18 s, sys: 2.17 s, total: 7.35 s\n",
      "Wall time: 7.86 s\n"
     ]
    },
    {
     "data": {
      "text/html": [
       "<div>\n",
       "<style scoped>\n",
       "    .dataframe tbody tr th:only-of-type {\n",
       "        vertical-align: middle;\n",
       "    }\n",
       "\n",
       "    .dataframe tbody tr th {\n",
       "        vertical-align: top;\n",
       "    }\n",
       "\n",
       "    .dataframe thead th {\n",
       "        text-align: right;\n",
       "    }\n",
       "</style>\n",
       "<table border=\"1\" class=\"dataframe\">\n",
       "  <thead>\n",
       "    <tr style=\"text-align: right;\">\n",
       "      <th></th>\n",
       "      <th>lat_min</th>\n",
       "      <th>lat_max</th>\n",
       "      <th>lon_min</th>\n",
       "      <th>lon_max</th>\n",
       "      <th>rain (mm/day)</th>\n",
       "    </tr>\n",
       "  </thead>\n",
       "  <tbody>\n",
       "    <tr>\n",
       "      <th>count</th>\n",
       "      <td>5.924854e+07</td>\n",
       "      <td>6.246784e+07</td>\n",
       "      <td>5.924854e+07</td>\n",
       "      <td>6.246784e+07</td>\n",
       "      <td>5.924854e+07</td>\n",
       "    </tr>\n",
       "    <tr>\n",
       "      <th>mean</th>\n",
       "      <td>-3.310497e+01</td>\n",
       "      <td>-3.197765e+01</td>\n",
       "      <td>1.469057e+02</td>\n",
       "      <td>1.482150e+02</td>\n",
       "      <td>1.901173e+00</td>\n",
       "    </tr>\n",
       "    <tr>\n",
       "      <th>std</th>\n",
       "      <td>1.963549e+00</td>\n",
       "      <td>1.992067e+00</td>\n",
       "      <td>3.793784e+00</td>\n",
       "      <td>3.809994e+00</td>\n",
       "      <td>5.585735e+00</td>\n",
       "    </tr>\n",
       "    <tr>\n",
       "      <th>min</th>\n",
       "      <td>-3.646739e+01</td>\n",
       "      <td>-3.600000e+01</td>\n",
       "      <td>1.406250e+02</td>\n",
       "      <td>1.412500e+02</td>\n",
       "      <td>-3.807373e-12</td>\n",
       "    </tr>\n",
       "    <tr>\n",
       "      <th>25%</th>\n",
       "      <td>-3.486911e+01</td>\n",
       "      <td>-3.366221e+01</td>\n",
       "      <td>1.434375e+02</td>\n",
       "      <td>1.450000e+02</td>\n",
       "      <td>3.838413e-06</td>\n",
       "    </tr>\n",
       "    <tr>\n",
       "      <th>50%</th>\n",
       "      <td>-3.300000e+01</td>\n",
       "      <td>-3.204189e+01</td>\n",
       "      <td>1.468750e+02</td>\n",
       "      <td>1.481250e+02</td>\n",
       "      <td>6.154947e-02</td>\n",
       "    </tr>\n",
       "    <tr>\n",
       "      <th>75%</th>\n",
       "      <td>-3.140170e+01</td>\n",
       "      <td>-3.015707e+01</td>\n",
       "      <td>1.501875e+02</td>\n",
       "      <td>1.513125e+02</td>\n",
       "      <td>1.020918e+00</td>\n",
       "    </tr>\n",
       "    <tr>\n",
       "      <th>max</th>\n",
       "      <td>-2.990000e+01</td>\n",
       "      <td>-2.790606e+01</td>\n",
       "      <td>1.537500e+02</td>\n",
       "      <td>1.556250e+02</td>\n",
       "      <td>4.329395e+02</td>\n",
       "    </tr>\n",
       "  </tbody>\n",
       "</table>\n",
       "</div>"
      ],
      "text/plain": [
       "            lat_min       lat_max       lon_min       lon_max  rain (mm/day)\n",
       "count  5.924854e+07  6.246784e+07  5.924854e+07  6.246784e+07   5.924854e+07\n",
       "mean  -3.310497e+01 -3.197765e+01  1.469057e+02  1.482150e+02   1.901173e+00\n",
       "std    1.963549e+00  1.992067e+00  3.793784e+00  3.809994e+00   5.585735e+00\n",
       "min   -3.646739e+01 -3.600000e+01  1.406250e+02  1.412500e+02  -3.807373e-12\n",
       "25%   -3.486911e+01 -3.366221e+01  1.434375e+02  1.450000e+02   3.838413e-06\n",
       "50%   -3.300000e+01 -3.204189e+01  1.468750e+02  1.481250e+02   6.154947e-02\n",
       "75%   -3.140170e+01 -3.015707e+01  1.501875e+02  1.513125e+02   1.020918e+00\n",
       "max   -2.990000e+01 -2.790606e+01  1.537500e+02  1.556250e+02   4.329395e+02"
      ]
     },
     "execution_count": 7,
     "metadata": {},
     "output_type": "execute_result"
    }
   ],
   "source": [
    "%%time\n",
    "df_new.describe() # time comparison"
   ]
  },
  {
   "cell_type": "markdown",
   "id": "0d457a64-56f8-484c-9823-c053be0ad929",
   "metadata": {},
   "source": [
    "#### Loading the columns of interest\n",
    "\n",
    "Since we were mostly interested in the rainfall in mm/day, we loaded only the `time` and `rain (mm/day)` columns this time to perform the same eda step. "
   ]
  },
  {
   "cell_type": "code",
   "execution_count": 13,
   "id": "62a469ea-9807-48b5-96d5-c18e9f6bf84e",
   "metadata": {},
   "outputs": [
    {
     "data": {
      "text/html": [
       "<div>\n",
       "<style scoped>\n",
       "    .dataframe tbody tr th:only-of-type {\n",
       "        vertical-align: middle;\n",
       "    }\n",
       "\n",
       "    .dataframe tbody tr th {\n",
       "        vertical-align: top;\n",
       "    }\n",
       "\n",
       "    .dataframe thead th {\n",
       "        text-align: right;\n",
       "    }\n",
       "</style>\n",
       "<table border=\"1\" class=\"dataframe\">\n",
       "  <thead>\n",
       "    <tr style=\"text-align: right;\">\n",
       "      <th></th>\n",
       "      <th>rain (mm/day)</th>\n",
       "    </tr>\n",
       "    <tr>\n",
       "      <th>time</th>\n",
       "      <th></th>\n",
       "    </tr>\n",
       "  </thead>\n",
       "  <tbody>\n",
       "    <tr>\n",
       "      <th>1889-01-01 12:00:00</th>\n",
       "      <td>4.244226e-13</td>\n",
       "    </tr>\n",
       "    <tr>\n",
       "      <th>1889-01-02 12:00:00</th>\n",
       "      <td>4.217326e-13</td>\n",
       "    </tr>\n",
       "    <tr>\n",
       "      <th>1889-01-03 12:00:00</th>\n",
       "      <td>4.498125e-13</td>\n",
       "    </tr>\n",
       "    <tr>\n",
       "      <th>1889-01-04 12:00:00</th>\n",
       "      <td>4.251282e-13</td>\n",
       "    </tr>\n",
       "    <tr>\n",
       "      <th>1889-01-05 12:00:00</th>\n",
       "      <td>4.270161e-13</td>\n",
       "    </tr>\n",
       "  </tbody>\n",
       "</table>\n",
       "</div>"
      ],
      "text/plain": [
       "                     rain (mm/day)\n",
       "time                              \n",
       "1889-01-01 12:00:00   4.244226e-13\n",
       "1889-01-02 12:00:00   4.217326e-13\n",
       "1889-01-03 12:00:00   4.498125e-13\n",
       "1889-01-04 12:00:00   4.251282e-13\n",
       "1889-01-05 12:00:00   4.270161e-13"
      ]
     },
     "execution_count": 13,
     "metadata": {},
     "output_type": "execute_result"
    }
   ],
   "source": [
    "df_subset = pd.read_csv(\"figshare/combined_data.csv\",\n",
    "                        parse_dates=True, index_col='time', \n",
    "                        usecols=['time', 'rain (mm/day)'])\n",
    "\n",
    "df_subset.head()"
   ]
  },
  {
   "cell_type": "code",
   "execution_count": 14,
   "id": "f2934e0d-ee3f-422f-b06a-0b81a18581c3",
   "metadata": {},
   "outputs": [
    {
     "name": "stdout",
     "output_type": "stream",
     "text": [
      "CPU times: user 2.19 s, sys: 2.45 s, total: 4.64 s\n",
      "Wall time: 8.15 s\n"
     ]
    },
    {
     "data": {
      "text/html": [
       "<div>\n",
       "<style scoped>\n",
       "    .dataframe tbody tr th:only-of-type {\n",
       "        vertical-align: middle;\n",
       "    }\n",
       "\n",
       "    .dataframe tbody tr th {\n",
       "        vertical-align: top;\n",
       "    }\n",
       "\n",
       "    .dataframe thead th {\n",
       "        text-align: right;\n",
       "    }\n",
       "</style>\n",
       "<table border=\"1\" class=\"dataframe\">\n",
       "  <thead>\n",
       "    <tr style=\"text-align: right;\">\n",
       "      <th></th>\n",
       "      <th>rain (mm/day)</th>\n",
       "    </tr>\n",
       "  </thead>\n",
       "  <tbody>\n",
       "    <tr>\n",
       "      <th>count</th>\n",
       "      <td>5.924854e+07</td>\n",
       "    </tr>\n",
       "    <tr>\n",
       "      <th>mean</th>\n",
       "      <td>1.901170e+00</td>\n",
       "    </tr>\n",
       "    <tr>\n",
       "      <th>std</th>\n",
       "      <td>5.585735e+00</td>\n",
       "    </tr>\n",
       "    <tr>\n",
       "      <th>min</th>\n",
       "      <td>-3.807373e-12</td>\n",
       "    </tr>\n",
       "    <tr>\n",
       "      <th>25%</th>\n",
       "      <td>3.838413e-06</td>\n",
       "    </tr>\n",
       "    <tr>\n",
       "      <th>50%</th>\n",
       "      <td>6.154947e-02</td>\n",
       "    </tr>\n",
       "    <tr>\n",
       "      <th>75%</th>\n",
       "      <td>1.020918e+00</td>\n",
       "    </tr>\n",
       "    <tr>\n",
       "      <th>max</th>\n",
       "      <td>4.329395e+02</td>\n",
       "    </tr>\n",
       "  </tbody>\n",
       "</table>\n",
       "</div>"
      ],
      "text/plain": [
       "       rain (mm/day)\n",
       "count   5.924854e+07\n",
       "mean    1.901170e+00\n",
       "std     5.585735e+00\n",
       "min    -3.807373e-12\n",
       "25%     3.838413e-06\n",
       "50%     6.154947e-02\n",
       "75%     1.020918e+00\n",
       "max     4.329395e+02"
      ]
     },
     "execution_count": 14,
     "metadata": {},
     "output_type": "execute_result"
    }
   ],
   "source": [
    "%%time\n",
    "df_subset.describe() # running same EDA step on the subset data"
   ]
  },
  {
   "cell_type": "markdown",
   "id": "e5c94eef-07e0-4c17-a907-8b4833c1133d",
   "metadata": {},
   "source": [
    "### Comparison table for Python EDA timing"
   ]
  },
  {
   "cell_type": "markdown",
   "id": "3d9de3c7-090a-4935-a4b7-092e8d889d0d",
   "metadata": {},
   "source": [
    "| Team Member  |Operating System|RAM|Processor|Is SSD| Baseline time for EDA | Time after changing `dtype`| Time for fewer columns|\n",
    "| -------------| -------------- | - | --- ----| -----| --------- |  --------- |  --------- |\n",
    "| Junrong Zhu  |macOS Monterey  |8GB|   CPU - Apple M1 chip 8-core   |  Yes | Total: 13.5s Wall time: 16s|  Total: 7.35s Wall time: 7.73s |  total: 3.04 s Wall time: 3.24 s\n",
    "| Amelia Tang  |macOS Monterey  |8GB|   CPU - 2.2 GHz Dual-Core Intel Core i7   |  Yes | Total: 22.4s Wall time: 26.1s| Total: 13.2s Wall time: 15s | total: 4.82 s Wall time: 4.97 s \n",
    "| Chaoran Wang | macOS Big Sur   | 16GB | CPU - 4.2 Ghz Quad-Core Intel Core i7 | Yes | Total: 12.7s Wall time: 12.8s| Total: 8s Wall time: 8.06s | total: 3.53 s Wall time: 3.57 s"
   ]
  },
  {
   "cell_type": "markdown",
   "id": "bc4cf9ce-1bc4-418d-8cc0-b173171955ba",
   "metadata": {},
   "source": [
    "### Summary for Python \n",
    "- Changing `dtype` \n",
    "> After changing the `dtype` from `float64` to `float32`, the memory usage decreased by around 50% and we observed obvious decreases in total / wall time to perform the simple EDA across our team member's computers.  \n",
    "- Loading on the columns needed \n",
    "> Since our main focus here was daily rainfall so we are most interested in the `rain (mm/day)` column. After extracting the subset of data, we saw significant decreases in total / wall time comparing to both Baseline time and the time after converting `dtype` across our team members' computers. "
   ]
  },
  {
   "cell_type": "markdown",
   "id": "fc5cad11-35d9-4a19-9158-8a748c7fcea3",
   "metadata": {},
   "source": [
    "### R Section"
   ]
  },
  {
   "cell_type": "markdown",
   "id": "e64f4104-a83c-4668-8abb-5bd14080d3ba",
   "metadata": {},
   "source": [
    "#### Transfer dataframe from python to R using `Feather`"
   ]
  },
  {
   "cell_type": "markdown",
   "id": "9be9d835-3385-4205-9a98-1182caefb7a9",
   "metadata": {},
   "source": [
    "Since we only need to store the data for short term here, we decide to use `feather file` over `Parquet file`. Also, `feather` allows us to exchange data from Python to R quickly with fairly simple implementation. We do not choose `Pandas Exchange` because it spends a long time on serialization and deserialization process and it's slower than `feather file`. Moreover, we also do not want to use `Arrow Exchange` to keep the `csv` format because size of it will not be compressed and it will take longer time to work with.    "
   ]
  },
  {
   "cell_type": "code",
   "execution_count": 1,
   "id": "19573bcd-5dd0-4257-b268-e434a186356c",
   "metadata": {},
   "outputs": [
    {
     "ename": "NameError",
     "evalue": "name 'df_new' is not defined",
     "output_type": "error",
     "traceback": [
      "\u001b[0;31m---------------------------------------------------------------------------\u001b[0m",
      "\u001b[0;31mNameError\u001b[0m                                 Traceback (most recent call last)",
      "Input \u001b[0;32mIn [1]\u001b[0m, in \u001b[0;36m<cell line: 1>\u001b[0;34m()\u001b[0m\n\u001b[0;32m----> 1\u001b[0m df_new \u001b[38;5;241m=\u001b[39m \u001b[43mdf_new\u001b[49m\u001b[38;5;241m.\u001b[39mreset_index()\n",
      "\u001b[0;31mNameError\u001b[0m: name 'df_new' is not defined"
     ]
    }
   ],
   "source": [
    "df_new = df_new.reset_index()"
   ]
  },
  {
   "cell_type": "code",
   "execution_count": 9,
   "id": "a7dafab1-b9f9-4423-8ea8-b9ab75cb9c72",
   "metadata": {},
   "outputs": [],
   "source": [
    "# converting df to feature file in Python\n",
    "df_new.to_feather(\"figshare/combined_data.feather\")"
   ]
  },
  {
   "cell_type": "code",
   "execution_count": null,
   "id": "ca321219-a6ec-4f29-8415-0fa6423c8fee",
   "metadata": {},
   "outputs": [],
   "source": [
    "# converting df to parquet file in Python\n",
    "import pyarrow.dataset as ds\n",
    "df_new_parquet = ds.dataset(\"figshare/combined_data.csv\")\n",
    "parquet_result = df_new_parquet.scanner(columns=use_cols)\n",
    "ds.write_dataset(parquet_result,\"figshare/combined_data.parquet\",format = \"parquet\")"
   ]
  },
  {
   "cell_type": "code",
   "execution_count": 10,
   "id": "817aecc7-81af-4bbf-87e6-0e646a06ae3a",
   "metadata": {},
   "outputs": [
    {
     "name": "stdout",
     "output_type": "stream",
     "text": [
      "960M\tfigshare/combined_data.feather\n"
     ]
    }
   ],
   "source": [
    "%%sh\n",
    "du -sh figshare/combined_data.feather"
   ]
  },
  {
   "cell_type": "markdown",
   "id": "b800518b-e555-4c1b-94c6-9c1c84930bbb",
   "metadata": {},
   "source": [
    "We can see our feather file of the data is about 900M."
   ]
  },
  {
   "cell_type": "code",
   "execution_count": null,
   "id": "56cd9d6f-bf51-46fe-a6ca-78f87aeac4ff",
   "metadata": {},
   "outputs": [
    {
     "data": {
      "text/html": [
       "<div>\n",
       "<style scoped>\n",
       "    .dataframe tbody tr th:only-of-type {\n",
       "        vertical-align: middle;\n",
       "    }\n",
       "\n",
       "    .dataframe tbody tr th {\n",
       "        vertical-align: top;\n",
       "    }\n",
       "\n",
       "    .dataframe thead th {\n",
       "        text-align: right;\n",
       "    }\n",
       "</style>\n",
       "<table border=\"1\" class=\"dataframe\">\n",
       "  <thead>\n",
       "    <tr style=\"text-align: right;\">\n",
       "      <th></th>\n",
       "      <th>time</th>\n",
       "      <th>lat_min</th>\n",
       "      <th>lat_max</th>\n",
       "      <th>lon_min</th>\n",
       "      <th>lon_max</th>\n",
       "      <th>rain (mm/day)</th>\n",
       "      <th>model</th>\n",
       "    </tr>\n",
       "  </thead>\n",
       "  <tbody>\n",
       "    <tr>\n",
       "      <th>0</th>\n",
       "      <td>1889-01-01 12:00:00</td>\n",
       "      <td>-35.439865</td>\n",
       "      <td>-33.574619</td>\n",
       "      <td>141.5625</td>\n",
       "      <td>143.4375</td>\n",
       "      <td>4.244226e-13</td>\n",
       "      <td>MPI-ESM-1-2-HAM</td>\n",
       "    </tr>\n",
       "    <tr>\n",
       "      <th>1</th>\n",
       "      <td>1889-01-02 12:00:00</td>\n",
       "      <td>-35.439865</td>\n",
       "      <td>-33.574619</td>\n",
       "      <td>141.5625</td>\n",
       "      <td>143.4375</td>\n",
       "      <td>4.217326e-13</td>\n",
       "      <td>MPI-ESM-1-2-HAM</td>\n",
       "    </tr>\n",
       "    <tr>\n",
       "      <th>2</th>\n",
       "      <td>1889-01-03 12:00:00</td>\n",
       "      <td>-35.439865</td>\n",
       "      <td>-33.574619</td>\n",
       "      <td>141.5625</td>\n",
       "      <td>143.4375</td>\n",
       "      <td>4.498125e-13</td>\n",
       "      <td>MPI-ESM-1-2-HAM</td>\n",
       "    </tr>\n",
       "    <tr>\n",
       "      <th>3</th>\n",
       "      <td>1889-01-04 12:00:00</td>\n",
       "      <td>-35.439865</td>\n",
       "      <td>-33.574619</td>\n",
       "      <td>141.5625</td>\n",
       "      <td>143.4375</td>\n",
       "      <td>4.251282e-13</td>\n",
       "      <td>MPI-ESM-1-2-HAM</td>\n",
       "    </tr>\n",
       "    <tr>\n",
       "      <th>4</th>\n",
       "      <td>1889-01-05 12:00:00</td>\n",
       "      <td>-35.439865</td>\n",
       "      <td>-33.574619</td>\n",
       "      <td>141.5625</td>\n",
       "      <td>143.4375</td>\n",
       "      <td>4.270161e-13</td>\n",
       "      <td>MPI-ESM-1-2-HAM</td>\n",
       "    </tr>\n",
       "  </tbody>\n",
       "</table>\n",
       "</div>"
      ],
      "text/plain": [
       "                 time    lat_min    lat_max   lon_min   lon_max  \\\n",
       "0 1889-01-01 12:00:00 -35.439865 -33.574619  141.5625  143.4375   \n",
       "1 1889-01-02 12:00:00 -35.439865 -33.574619  141.5625  143.4375   \n",
       "2 1889-01-03 12:00:00 -35.439865 -33.574619  141.5625  143.4375   \n",
       "3 1889-01-04 12:00:00 -35.439865 -33.574619  141.5625  143.4375   \n",
       "4 1889-01-05 12:00:00 -35.439865 -33.574619  141.5625  143.4375   \n",
       "\n",
       "   rain (mm/day)            model  \n",
       "0   4.244226e-13  MPI-ESM-1-2-HAM  \n",
       "1   4.217326e-13  MPI-ESM-1-2-HAM  \n",
       "2   4.498125e-13  MPI-ESM-1-2-HAM  \n",
       "3   4.251282e-13  MPI-ESM-1-2-HAM  \n",
       "4   4.270161e-13  MPI-ESM-1-2-HAM  "
      ]
     },
     "execution_count": 11,
     "metadata": {},
     "output_type": "execute_result"
    }
   ],
   "source": [
    "%%time\n",
    "df_feather = pd.read_feather('figshare/combined_data.feather')"
   ]
  },
  {
   "cell_type": "code",
   "execution_count": null,
   "id": "3ab78f21-8101-4cc3-a3c2-60867c0ba8ba",
   "metadata": {},
   "outputs": [],
   "source": [
    "df_feather.head()"
   ]
  },
  {
   "cell_type": "code",
   "execution_count": null,
   "id": "acbb5355-8123-4100-8e7f-9b67edf70bae",
   "metadata": {},
   "outputs": [],
   "source": [
    "%%time\n",
    "df_parquet = pd.read_parquet('figshare/combined_data.python.parquet')"
   ]
  },
  {
   "cell_type": "code",
   "execution_count": null,
   "id": "83f166bf-1cb2-4596-a72a-caa53b445a61",
   "metadata": {},
   "outputs": [],
   "source": [
    "df_parquet"
   ]
  },
  {
   "cell_type": "code",
   "execution_count": null,
   "id": "b0320211-ab0e-4877-81cd-40ba214d3131",
   "metadata": {},
   "outputs": [],
   "source": [
    "%load_ext rpy2.ipython"
   ]
  },
  {
   "cell_type": "code",
   "execution_count": null,
   "id": "2ca0f8af-d11f-47e0-88a2-d59fb10d029e",
   "metadata": {},
   "outputs": [
    {
     "name": "stdout",
     "output_type": "stream",
     "text": [
      "                 time   lat_min   lat_max  lon_min  lon_max rain (mm/day)\n",
      "1 1889-01-01 04:00:00 -35.43987 -33.57462 141.5625 143.4375  4.244226e-13\n",
      "2 1889-01-02 04:00:00 -35.43987 -33.57462 141.5625 143.4375  4.217326e-13\n",
      "3 1889-01-03 04:00:00 -35.43987 -33.57462 141.5625 143.4375  4.498125e-13\n",
      "4 1889-01-04 04:00:00 -35.43987 -33.57462 141.5625 143.4375  4.251282e-13\n",
      "5 1889-01-05 04:00:00 -35.43987 -33.57462 141.5625 143.4375  4.270161e-13\n",
      "6 1889-01-06 04:00:00 -35.43987 -33.57462 141.5625 143.4375  4.197289e-13\n",
      "            model\n",
      "1 MPI-ESM-1-2-HAM\n",
      "2 MPI-ESM-1-2-HAM\n",
      "3 MPI-ESM-1-2-HAM\n",
      "4 MPI-ESM-1-2-HAM\n",
      "5 MPI-ESM-1-2-HAM\n",
      "6 MPI-ESM-1-2-HAM\n"
     ]
    }
   ],
   "source": [
    "%%R\n",
    "suppressMessages(library(arrow))\n",
    "df_feather <- arrow::read_feather('figshare/combined_data.feather')\n",
    "head(df_feather)"
   ]
  },
  {
   "cell_type": "markdown",
   "id": "f98207c8-d505-478c-b6dc-7260820b69c9",
   "metadata": {},
   "source": [
    "#### Simple EDA"
   ]
  },
  {
   "cell_type": "code",
   "execution_count": 21,
   "id": "517eddd9-d456-4ff5-a762-6f41b8e6d111",
   "metadata": {},
   "outputs": [
    {
     "name": "stdout",
     "output_type": "stream",
     "text": [
      "      time                        lat_min           lat_max      \n",
      " Min.   :1888-12-31 16:00:00   Min.   :-36       Min.   :-36.00  \n",
      " 1st Qu.:1920-07-02 04:00:00   1st Qu.:-35       1st Qu.:-33.66  \n",
      " Median :1952-01-01 04:00:00   Median :-33       Median :-32.04  \n",
      " Mean   :1952-01-01 08:32:08   Mean   :-33       Mean   :-31.98  \n",
      " 3rd Qu.:1983-07-02 05:00:00   3rd Qu.:-31       3rd Qu.:-30.16  \n",
      " Max.   :2014-12-31 04:00:00   Max.   :-30       Max.   :-27.91  \n",
      "                               NA's   :3219300                   \n",
      "    lon_min           lon_max      rain (mm/day)        model          \n",
      " Min.   :141       Min.   :141.2   Min.   :  0       Length:62467843   \n",
      " 1st Qu.:143       1st Qu.:145.0   1st Qu.:  0       Class :character  \n",
      " Median :147       Median :148.1   Median :  0       Mode  :character  \n",
      " Mean   :147       Mean   :148.2   Mean   :  2                         \n",
      " 3rd Qu.:150       3rd Qu.:151.3   3rd Qu.:  1                         \n",
      " Max.   :154       Max.   :155.6   Max.   :433                         \n",
      " NA's   :3219300                   NA's   :3219300                     \n"
     ]
    }
   ],
   "source": [
    "%%R\n",
    "summary(df_feather)"
   ]
  },
  {
   "cell_type": "code",
   "execution_count": null,
   "id": "39fa3fce-d333-4f5d-a66e-2f928855b666",
   "metadata": {},
   "outputs": [
    {
     "name": "stdout",
     "output_type": "stream",
     "text": [
      "                 time   lat_min   lat_max  lon_min  lon_max rain (mm/day)\n",
      "1 1889-01-01 04:00:00 -35.43987 -33.57462 141.5625 143.4375  4.244226e-13\n",
      "2 1889-01-02 04:00:00 -35.43987 -33.57462 141.5625 143.4375  4.217326e-13\n",
      "3 1889-01-03 04:00:00 -35.43987 -33.57462 141.5625 143.4375  4.498125e-13\n",
      "            model year\n",
      "1 MPI-ESM-1-2-HAM 1889\n",
      "2 MPI-ESM-1-2-HAM 1889\n",
      "3 MPI-ESM-1-2-HAM 1889\n"
     ]
    }
   ],
   "source": [
    "%%R\n",
    "df_feather$year <- format(df_feather$time, format = \"%Y\")\n",
    "head(df_feather, 3)"
   ]
  },
  {
   "cell_type": "markdown",
   "id": "eeaa05c7-37a3-4afc-9e13-fe2218534ef9",
   "metadata": {},
   "source": [
    "Based on the previous discussion, we are mostly interested in the `time` and `rain (mm/day)` columns, therefore, we'll perform further EDA with a focus on a subset of data."
   ]
  },
  {
   "cell_type": "code",
   "execution_count": null,
   "id": "dafaa507-debe-4929-a528-6779373d5b97",
   "metadata": {},
   "outputs": [],
   "source": [
    "%%R\n",
    "colnames(df_feather)[7] <- \"rain\""
   ]
  },
  {
   "cell_type": "code",
   "execution_count": null,
   "id": "7fad751a-aaf0-4f93-8e72-d87b2c8ef97b",
   "metadata": {},
   "outputs": [],
   "source": [
    "%%R\n",
    "df_feather <- aggregate(rain ~ year, data = df_feather, mean)\n",
    "head(df_feather)"
   ]
  },
  {
   "cell_type": "code",
   "execution_count": null,
   "id": "8b7df7db-dc38-45db-b448-70dc4a4520ed",
   "metadata": {},
   "outputs": [],
   "source": [
    "%%R\n",
    "df_feather$year <- as.numeric(df_feather$year)"
   ]
  },
  {
   "cell_type": "code",
   "execution_count": null,
   "id": "b08f3fbe-a496-4f28-9b91-cfe0d9198cf0",
   "metadata": {},
   "outputs": [],
   "source": [
    "%%R\n",
    "suppressMessages(library(ggplot2))\n",
    "ggplot(data = df_feather, aes(x = year, y = rain)) +\n",
    "  geom_line() +\n",
    "  labs(title = \"Rainfall trend in Austrilia\", x = \"Year\", y = \"Rainfall\")"
   ]
  },
  {
   "cell_type": "markdown",
   "id": "af844424-c40c-4de4-8be9-7b68b6159d3c",
   "metadata": {},
   "source": [
    "## Challenges\n",
    "\n",
    "1. One of the challenges we had with Q5 was the long running time. For example, we wanted to have a general overview on the dataframe by using `.info()` like what we did in other courses, however, it took a long time to output the dtype for each variable as well as other information which we were not particularly interested in. As an alternative approach, we used `.dtypes` to get the data type of columns and it returned the results immediately.\n",
    "\n",
    "2. For EDA of R, we were struggling to come up with a proper analysis because of the big data set. We finally choose to plot a simple line plot to show the trend of rain over years. Due to the large data size, we ended up aggregating it with means of rainfall by years instead of plotting the original rainfall data. The aggregation process takes about 10 minutes for one of us and it seems acceptable, but a teammate's laptop can't run it at all. "
   ]
  },
  {
   "cell_type": "code",
   "execution_count": null,
   "id": "b88fc920-8505-4f0a-84c3-221aa320e583",
   "metadata": {},
   "outputs": [],
   "source": []
  }
 ],
 "metadata": {
  "kernelspec": {
   "display_name": "Python [conda env:525_2022]",
   "language": "python",
   "name": "conda-env-525_2022-py"
  },
  "language_info": {
   "codemirror_mode": {
    "name": "ipython",
    "version": 3
   },
   "file_extension": ".py",
   "mimetype": "text/x-python",
   "name": "python",
   "nbconvert_exporter": "python",
   "pygments_lexer": "ipython3",
   "version": "3.8.6"
  }
 },
 "nbformat": 4,
 "nbformat_minor": 5
}
