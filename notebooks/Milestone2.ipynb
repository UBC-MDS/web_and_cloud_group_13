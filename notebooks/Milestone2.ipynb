{
 "cells": [
  {
   "cell_type": "markdown",
   "id": "114cf9c2",
   "metadata": {},
   "source": [
    "# DSCI 525 - Web and Cloud Computing"
   ]
  },
  {
   "cell_type": "markdown",
   "id": "cdcfdb0d",
   "metadata": {},
   "source": [
    "Milestone 2: Your team is planning to migrate to the cloud. AWS gave 400$ (100$ each) to your team to support this. As part of this initiative, your team needs to set up a server in the cloud, a collaborative environment for your team, and later move your data to the cloud. After that, your team can wrangle the data in preparation for machine learning.\n",
    "\n",
    "## Milestone 2 checklist  \n",
    "You will have mainly 2 tasks. Here is the checklist...\n",
    "- To set up a collaborative environment \n",
    "    - Setup your EC2 instance with JupyterHub.\n",
    "    - Install all necessary things needed in your UNIX server (amazon ec2 instance).\n",
    "    - Set up your S3 bucket.\n",
    "    - Move the data that you wrangled in your last milestone to s3.\n",
    "    - To move data from s3.\n",
    "- Wrangle the data in preparation for machine learning\n",
    "    - Get the data from S3 in your notebook and make data ready for machine learning."
   ]
  },
  {
   "cell_type": "markdown",
   "id": "f6849a9a",
   "metadata": {},
   "source": [
    "**Keep in mind:**\n",
    "\n",
    "- _All services you use are in region us-west-2._\n",
    "\n",
    "- _Don't store anything in these servers or storage that represents your identity as a student (like your student ID number) ._\n",
    "\n",
    "- _Use only default VPC and subnet._\n",
    "    \n",
    "- _No IP addresses are visible when you provide the screenshot._\n",
    "\n",
    "- _You do proper budgeting so that you don't run out of credits._ \n",
    "\n",
    "- _We want one single notebook for grading, and it's up to your discretion on how you do it. ***So only one person in your group needs to spin up a big instance and a ```t2.xlarge``` is of decent size.***_\n",
    "\n",
    "- _Please stop the instance when not in use. This can save you some bucks, but it's again up to you and how you budget your money. Maybe stop it if you or your team won't use it for the next 5 hours?\n",
    "\n",
    "- _Your AWS lab will shut down after 3 hours 30 min. When you start it again, your AWS credentials (***access key***,***secret***, and ***session token***) will change, and you want to update your credentials file with the new one. _\n",
    "\n",
    "- _Say something went wrong and you want to spin up another EC2 instance, then make sure you terminate the previous one._\n",
    "\n",
    "- _We will be choosing the storage to be ```Delete on Termination```, which means that stored data in your instance will be lost upon termination. Make sure you save any data to S3 and download the notebooks to your laptop so that next time you have your jupyterHub in a different instance, you can upload your notebook there._\n",
    "\n",
    "_***Outside of Milestone:*** If you are working as an individual just to practice setting up EC2 instances, make sure you select ```t2.large``` instance (not anything bigger than that as it can cost you money). I strongly recommend you spin up your own instance and experiment with the s3 bucket in doing something (there are many things that we learned and practical work from additional instructions and video series) to get comfortable with AWS. But we won't be looking at it for a grading purpose._\n",
    "\n",
    "***NOTE:*** Everything you want for this notebook is discussed in lecture 3, lecture 4, and setup instructions."
   ]
  },
  {
   "cell_type": "markdown",
   "id": "a1884cb4",
   "metadata": {},
   "source": [
    "### 1. Setup your EC2 instance"
   ]
  },
  {
   "cell_type": "markdown",
   "id": "58e80c45",
   "metadata": {},
   "source": [
    "rubric={correctness:20}"
   ]
  },
  {
   "cell_type": "markdown",
   "id": "d82539b2",
   "metadata": {},
   "source": [
    "#### Please attach this screen shots from your group for grading.\n",
    "https://github.ubc.ca/mds-2021-22/DSCI_525_web-cloud-comp_students/blob/master/release/milestone2/image/1_result.png"
   ]
  },
  {
   "cell_type": "markdown",
   "id": "3fea3588-0f79-40cd-89dd-cc1bfa763ad4",
   "metadata": {},
   "source": [
    "![](img/milestone2_1.jpg)"
   ]
  },
  {
   "cell_type": "markdown",
   "id": "539ad5a3",
   "metadata": {},
   "source": [
    "### 2. Setup your JupyterHub"
   ]
  },
  {
   "cell_type": "markdown",
   "id": "639f8283",
   "metadata": {},
   "source": [
    "rubric={correctness:20}"
   ]
  },
  {
   "cell_type": "markdown",
   "id": "2dea6704",
   "metadata": {
    "tags": []
   },
   "source": [
    "#### Please attach this screen shots from your group for grading\n",
    "I want to see all the group members here in this screenshot https://github.ubc.ca/mds-2021-22/DSCI_525_web-cloud-comp_students/blob/master/release/milestone2/image/2_result.png"
   ]
  },
  {
   "cell_type": "markdown",
   "id": "3b548b37-6393-4652-8054-a51b34b1c151",
   "metadata": {},
   "source": [
    "![](img/milestone2_2.jpg)"
   ]
  },
  {
   "cell_type": "markdown",
   "id": "9801b911",
   "metadata": {},
   "source": [
    "### 3. Setup the server "
   ]
  },
  {
   "cell_type": "markdown",
   "id": "c732ef2d",
   "metadata": {},
   "source": [
    "rubric={correctness:20}"
   ]
  },
  {
   "cell_type": "markdown",
   "id": "3bed70af",
   "metadata": {},
   "source": [
    "3.1) Add your team members to EC2 instance.\n",
    "\n",
    "3.2) Setup a common data folder to download data, and this folder should be accessible by all users in the JupyterHub.\n",
    "    \n",
    "3.3)(***OPTIONAL***) Setup a sharing notebook environment.\n",
    "\n",
    "3.4) Install and configure AWS CLI."
   ]
  },
  {
   "cell_type": "markdown",
   "id": "a08693c0",
   "metadata": {},
   "source": [
    "#### Please attach this screen shots from your group for grading\n",
    "\n",
    "Make sure you mask the IP address refer [here](https://www.anysoftwaretools.com/blur-part-picture-mac/).\n",
    "\n",
    "https://github.ubc.ca/mds-2021-22/DSCI_525_web-cloud-comp_students/blob/master/release/milestone2/image/3_result.png"
   ]
  },
  {
   "cell_type": "markdown",
   "id": "190b2fb6-91f0-4d80-a4e5-bdc418a47ee4",
   "metadata": {},
   "source": [
    "![](img/milestone2_3.png)"
   ]
  },
  {
   "cell_type": "markdown",
   "id": "eeecde21",
   "metadata": {},
   "source": [
    "### 4. Get the data what we wrangled in our first milestone. "
   ]
  },
  {
   "cell_type": "markdown",
   "id": "2174bec3",
   "metadata": {},
   "source": [
    "You have to install the packages that are needed. Refer this TLJH [document]( https://tljh.jupyter.org/en/latest/howto/env/user-environment.html).Refer ```pip``` section.\n",
    "\n",
    "Don't forget to add option -E. This way, all packages that you install will be available to other users in your JupyterHub.\n",
    "These packages you must install and install other packages needed for your wrangling.\n",
    "\n",
    "    sudo -E pip install pandas\n",
    "    sudo -E pip install pyarrow\n",
    "    sudo -E pip install s3fs"
   ]
  },
  {
   "cell_type": "markdown",
   "id": "66d32fbd",
   "metadata": {},
   "source": [
    "As in the last milestone, we looked at getting the data transferred from Python to R, and we have different solutions. Henceforth, I uploaded the parquet file format, which we can use moving forward."
   ]
  },
  {
   "cell_type": "code",
   "execution_count": 1,
   "id": "ec6a16f6",
   "metadata": {},
   "outputs": [
    {
     "name": "stderr",
     "output_type": "stream",
     "text": [
      "/opt/tljh/user/lib/python3.7/site-packages/requests/__init__.py:91: RequestsDependencyWarning: urllib3 (1.26.4) or chardet (3.0.4) doesn't match a supported version!\n",
      "  RequestsDependencyWarning)\n"
     ]
    }
   ],
   "source": [
    "import re\n",
    "import os\n",
    "import glob\n",
    "import zipfile\n",
    "import requests\n",
    "from urllib.request import urlretrieve\n",
    "import json\n",
    "import pandas as pd"
   ]
  },
  {
   "cell_type": "markdown",
   "id": "c6b16325",
   "metadata": {},
   "source": [
    "Rememeber here we gave the folder that we created in Step 3.2 as we made it available for all the users in a group."
   ]
  },
  {
   "cell_type": "code",
   "execution_count": 3,
   "id": "07bd98c6",
   "metadata": {},
   "outputs": [],
   "source": [
    "# Necessary metadata\n",
    "article_id = 14226968  # this is the unique identifier of the article on figshare\n",
    "url = f\"https://api.figshare.com/v2/articles/{article_id}\"\n",
    "headers = {\"Content-Type\": \"application/json\"}\n",
    "output_directory = \"/srv/data/my_shared_data_folder/\""
   ]
  },
  {
   "cell_type": "code",
   "execution_count": 4,
   "id": "9dae876e",
   "metadata": {},
   "outputs": [
    {
     "data": {
      "text/plain": [
       "[{'is_link_only': False,\n",
       "  'name': 'allyears.csv.zip',\n",
       "  'supplied_md5': '9e046ac05ecd2c32a256a47dd1098b81',\n",
       "  'computed_md5': '9e046ac05ecd2c32a256a47dd1098b81',\n",
       "  'id': 26844650,\n",
       "  'download_url': 'https://ndownloader.figshare.com/files/26844650',\n",
       "  'size': 2405908113},\n",
       " {'is_link_only': False,\n",
       "  'name': 'individual_years.zip',\n",
       "  'supplied_md5': '921da748974b07b2a70bbfcc04535a77',\n",
       "  'computed_md5': '921da748974b07b2a70bbfcc04535a77',\n",
       "  'id': 26863682,\n",
       "  'download_url': 'https://ndownloader.figshare.com/files/26863682',\n",
       "  'size': 1896206676},\n",
       " {'is_link_only': False,\n",
       "  'name': 'combined_model_data.csv.zip',\n",
       "  'supplied_md5': '7638434c44a7d29cbb29fe200b4fd65d',\n",
       "  'computed_md5': '7638434c44a7d29cbb29fe200b4fd65d',\n",
       "  'id': 27515426,\n",
       "  'download_url': 'https://ndownloader.figshare.com/files/27515426',\n",
       "  'size': 821308997},\n",
       " {'is_link_only': False,\n",
       "  'name': 'combined_model_data_parti.parquet.zip',\n",
       "  'supplied_md5': '02f4e3df8d16580a02291de225072689',\n",
       "  'computed_md5': '02f4e3df8d16580a02291de225072689',\n",
       "  'id': 27520682,\n",
       "  'download_url': 'https://ndownloader.figshare.com/files/27520682',\n",
       "  'size': 519743915},\n",
       " {'is_link_only': False,\n",
       "  'name': 'combined_model_data.parquet',\n",
       "  'supplied_md5': 'ae63699ab21ffa8006559c6afbcd2271',\n",
       "  'computed_md5': 'ae63699ab21ffa8006559c6afbcd2271',\n",
       "  'id': 27520808,\n",
       "  'download_url': 'https://ndownloader.figshare.com/files/27520808',\n",
       "  'size': 565872005}]"
      ]
     },
     "execution_count": 4,
     "metadata": {},
     "output_type": "execute_result"
    }
   ],
   "source": [
    "response = requests.request(\"GET\", url, headers=headers)\n",
    "data = json.loads(response.text)  # this contains all the articles data, feel free to check it out\n",
    "files = data[\"files\"]             # this is just the data about the files, which is what we want\n",
    "files"
   ]
  },
  {
   "cell_type": "code",
   "execution_count": 5,
   "id": "55ae9ec8",
   "metadata": {},
   "outputs": [],
   "source": [
    "files_to_dl = [\"combined_model_data_parti.parquet.zip\"]  ## Please download the partitioned \n",
    "for file in files:\n",
    "    if file[\"name\"] in files_to_dl:\n",
    "        os.makedirs(output_directory, exist_ok=True)\n",
    "        urlretrieve(file[\"download_url\"], output_directory + file[\"name\"])"
   ]
  },
  {
   "cell_type": "code",
   "execution_count": 6,
   "id": "11642663",
   "metadata": {},
   "outputs": [],
   "source": [
    "with zipfile.ZipFile(os.path.join(output_directory, \"combined_model_data_parti.parquet.zip\"), 'r') as f:\n",
    "    f.extractall(output_directory)"
   ]
  },
  {
   "cell_type": "markdown",
   "id": "0d2f04d9",
   "metadata": {},
   "source": [
    "### 5. Setup your S3 bucket and move data"
   ]
  },
  {
   "cell_type": "markdown",
   "id": "8a9c2bbf",
   "metadata": {},
   "source": [
    "rubric={correctness:20}"
   ]
  },
  {
   "cell_type": "markdown",
   "id": "cc337efd",
   "metadata": {},
   "source": [
    "5.1)  Create a bucket name should be mds-s3-xxx. Replace xxx with your \"groupnumber\".\n",
    "\n",
    "5.2)  Create your first folder called \"output\".\n",
    "\n",
    "5.3) Move the \"observed_daily_rainfall_SYD.csv\" file from the Milestone1 data folder to your s3 bucket from your local computer.\n",
    "\n",
    "5.4) Moving the parquet file we downloaded(combined_model_data_parti.parquet) in step 4 to S3 using the cli what we installed in step 3.4."
   ]
  },
  {
   "cell_type": "markdown",
   "id": "66d3e08c",
   "metadata": {},
   "source": [
    "#### Please attach this screen shots from your group for grading\n",
    "\n",
    "Make sure it has 3 objects.\n",
    "\n",
    "https://github.ubc.ca/mds-2021-22/DSCI_525_web-cloud-comp_students/blob/master/release/milestone2/image/4_result.png"
   ]
  },
  {
   "cell_type": "markdown",
   "id": "56d40246",
   "metadata": {},
   "source": [
    "### 6. Wrangle the data in preparation for machine learning"
   ]
  },
  {
   "cell_type": "markdown",
   "id": "683ca7b4",
   "metadata": {},
   "source": [
    "rubric={correctness:20}"
   ]
  },
  {
   "cell_type": "markdown",
   "id": "c0f1fca0",
   "metadata": {},
   "source": [
    "Our data currently covers all of NSW, but say that our client wants us to create a machine learning model to predict rainfall over Sydney only. There's a bit of wrangling that needs to be done for that:\n",
    "1. We need to query our data for only the rows that contain information covering Sydney\n",
    "2. We need to wrangle our data into a format suitable for training a machine learning model. That will require pivoting, resampling, grouping, etc.\n",
    "\n",
    "To train an ML algorithm we need it to look like this:\n",
    "\n",
    "||model-1_rainfall|model-2_rainfall|model-3_rainfall|...|observed_rainfall|\n",
    "|---|---|---|---|---|---|\n",
    "|0|0.12|0.43|0.35|...|0.31|\n",
    "|1|1.22|0.91|1.68|...|1.34|\n",
    "|2|0.68|0.29|0.41|...|0.57|"
   ]
  },
  {
   "cell_type": "markdown",
   "id": "e6b4929d",
   "metadata": {},
   "source": [
    "6.1) Get the data from s3 (```combined_model_data_parti.parquet``` and ```observed_daily_rainfall_SYD.csv```)\n",
    "\n",
    "6.2) First query for Sydney data and then drop the lat and lon columns (we don't need them).\n",
    "```\n",
    "syd_lat = -33.86\n",
    "syd_lon = 151.21\n",
    "```\n",
    "Expected shape ```(1150049, 2)```.\n",
    "\n",
    "6.3) Save this processed file to s3 for later use:\n",
    "\n",
    "  Save as a csv file ```ml_data_SYD.csv``` to ```s3://mds-s3-xxx/output/```\n",
    "  expected shape ```(46020,26)``` - This includes all the models as columns and also adding additional column ```Observed``` loaded from ```observed_daily_rainfall_SYD.csv``` from s3."
   ]
  },
  {
   "cell_type": "code",
   "execution_count": 1,
   "id": "04d572df",
   "metadata": {},
   "outputs": [],
   "source": [
    "### Do all your coding here"
   ]
  },
  {
   "cell_type": "code",
   "execution_count": null,
   "id": "bbbe6d3c",
   "metadata": {},
   "outputs": [],
   "source": []
  },
  {
   "cell_type": "code",
   "execution_count": null,
   "id": "b98047ff",
   "metadata": {},
   "outputs": [],
   "source": []
  },
  {
   "cell_type": "code",
   "execution_count": null,
   "id": "77ea33ec",
   "metadata": {},
   "outputs": [],
   "source": []
  },
  {
   "cell_type": "code",
   "execution_count": null,
   "id": "581da8e7",
   "metadata": {},
   "outputs": [],
   "source": []
  },
  {
   "cell_type": "code",
   "execution_count": null,
   "id": "3fef8f32",
   "metadata": {},
   "outputs": [],
   "source": []
  },
  {
   "cell_type": "markdown",
   "id": "79fbbce5",
   "metadata": {},
   "source": [
    "How the final file format looks like\n",
    "https://github.ubc.ca/mds-2021-22/DSCI_525_web-cloud-comp_students/blob/master/release/milestone2/image/finaloutput.png\n",
    "\n",
    "Shape ```(46020,26 )```"
   ]
  },
  {
   "cell_type": "markdown",
   "id": "9578c8c1",
   "metadata": {},
   "source": [
    "(***OPTIONAL***) If you are interested in doing some benchmarking!! How much time it took to read..\n",
    "- Parquet file from your local disk ?\n",
    "- Parquet file from s3 ?\n",
    "- CSV file from s3 ?\n",
    "    For that, upload the CSV file (```combined_model_data.csv```\n",
    "     )to S3 and try to read it instead of parquet. "
   ]
  },
  {
   "cell_type": "code",
   "execution_count": null,
   "id": "5cd4e59c",
   "metadata": {},
   "outputs": [],
   "source": []
  }
 ],
 "metadata": {
  "kernelspec": {
   "display_name": "Python 3 (ipykernel)",
   "language": "python",
   "name": "python3"
  },
  "language_info": {
   "codemirror_mode": {
    "name": "ipython",
    "version": 3
   },
   "file_extension": ".py",
   "mimetype": "text/x-python",
   "name": "python",
   "nbconvert_exporter": "python",
   "pygments_lexer": "ipython3",
   "version": "3.9.10"
  }
 },
 "nbformat": 4,
 "nbformat_minor": 5
}
